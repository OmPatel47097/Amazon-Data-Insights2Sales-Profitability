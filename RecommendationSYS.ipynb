{
 "cells": [
  {
   "cell_type": "markdown",
   "metadata": {},
   "source": [
    "# **Recommendation System with Different Approach:**"
   ]
  },
  {
   "cell_type": "markdown",
   "metadata": {},
   "source": [
    "1. Lets make a simple system using **Popularity** based approach:\n",
    "    This used some specific formula in order to give users sugessions."
   ]
  },
  {
   "cell_type": "code",
   "execution_count": 2,
   "metadata": {},
   "outputs": [],
   "source": [
    "import pandas as pd\n",
    "import numpy as np\n",
    "import matplotlib.pyplot as plt\n",
    "import seaborn as sns\n",
    "from sklearn.preprocessing import StandardScaler\n",
    "from sklearn.decomposition import PCA\n",
    "from sklearn.cluster import KMeans"
   ]
  },
  {
   "cell_type": "code",
   "execution_count": 3,
   "metadata": {},
   "outputs": [
    {
     "name": "stdout",
     "output_type": "stream",
     "text": [
      "Index(['user_id', 'product_id', 'product_name', 'about_product', 'rating',\n",
      "       'rating_count', 'discounted_price', 'actual_price', 'review_title',\n",
      "       'review_content', 'category_1', 'category_2'],\n",
      "      dtype='object')\n",
      "                                             user_id  product_id   \n",
      "0  AG3D6O4STAQKAY2UVGEUV46KN35Q,AHMY5CWJMMK5BJRBB...  B07JW9H4J1  \\\n",
      "1  AECPFYFQVRUWC3KGNLJIOREFP5LQ,AGYYVPDD7YG7FYNBX...  B098NS6PVG   \n",
      "2  AGU3BBQ2V2DDAMOAKGFAWDDQ6QHA,AESFLDV2PT363T2AQ...  B096MSW6CT   \n",
      "3  AEWAZDZZJLQUYVOVGBEUKSLXHQ5A,AG5HTSFRRE6NL3M5S...  B08HDJ86NZ   \n",
      "4  AE3Q6KSUK5P75D5HFYHCRAOLODSA,AFUGIFH5ZAFXRDSZH...  B08CF3B7N1   \n",
      "\n",
      "                                        product_name   \n",
      "0  wayona nylon braided usb to lightning fast cha...  \\\n",
      "1  ambrane unbreakable 60w  3a fast charging 15m ...   \n",
      "2  sounce fast phone charging cable  data sync us...   \n",
      "3  boat deuce usb 300 2 in 1 typec  micro usb str...   \n",
      "4  portronics konnect l 12m fast charging 3a 8 pi...   \n",
      "\n",
      "                                       about_product  rating  rating_count   \n",
      "0  high compatibility  compatible with iphone 12 ...     4.2       24269.0  \\\n",
      "1  compatible with all type c enabled devices be ...     4.0       43994.0   \n",
      "2   fast charger data syncwith builtin safety pro...     3.9        7928.0   \n",
      "3  the boat deuce usb 300 2 in 1 cable is compati...     4.2       94363.0   \n",
      "4  charge  sync function this cable comes with ch...     4.2       16905.0   \n",
      "\n",
      "   discounted_price  actual_price   \n",
      "0             399.0        1099.0  \\\n",
      "1             199.0         349.0   \n",
      "2             199.0        1899.0   \n",
      "3             329.0         699.0   \n",
      "4             154.0         399.0   \n",
      "\n",
      "                                        review_title   \n",
      "0  satisfiedcharging is really fastvalue for mone...  \\\n",
      "1  a good braided cable for your type c devicegoo...   \n",
      "2  good speed for earlier versionsgood productwor...   \n",
      "3  good productgood onenicereally nice productver...   \n",
      "4  as good as originaldecentgood one for secondar...   \n",
      "\n",
      "                                      review_content               category_1   \n",
      "0  looks durable charging is fine toono complains...  ComputersandAccessories  \\\n",
      "1  i ordered this cable to connect my phone to an...  ComputersandAccessories   \n",
      "2  not quite durable and sturdyhttpsmmediaamazonc...  ComputersandAccessories   \n",
      "3  good productlong wirecharges goodnicei bought ...  ComputersandAccessories   \n",
      "4  bought this instead of original apple does the...  ComputersandAccessories   \n",
      "\n",
      "                  category_2  \n",
      "0  AccessoriesandPeripherals  \n",
      "1  AccessoriesandPeripherals  \n",
      "2  AccessoriesandPeripherals  \n",
      "3  AccessoriesandPeripherals  \n",
      "4  AccessoriesandPeripherals  \n"
     ]
    }
   ],
   "source": [
    "df = pd.read_csv('S:\\Conestoga\\Learning_Subject\\Foundation_of_ML\\Project\\data\\data1/amazon_cleaned.csv')\n",
    "print(df.columns)\n",
    "print(df.head())"
   ]
  },
  {
   "cell_type": "code",
   "execution_count": 4,
   "metadata": {},
   "outputs": [
    {
     "data": {
      "text/html": [
       "<div>\n",
       "<style scoped>\n",
       "    .dataframe tbody tr th:only-of-type {\n",
       "        vertical-align: middle;\n",
       "    }\n",
       "\n",
       "    .dataframe tbody tr th {\n",
       "        vertical-align: top;\n",
       "    }\n",
       "\n",
       "    .dataframe thead th {\n",
       "        text-align: right;\n",
       "    }\n",
       "</style>\n",
       "<table border=\"1\" class=\"dataframe\">\n",
       "  <thead>\n",
       "    <tr style=\"text-align: right;\">\n",
       "      <th></th>\n",
       "      <th>rating</th>\n",
       "    </tr>\n",
       "    <tr>\n",
       "      <th>product_name</th>\n",
       "      <th></th>\n",
       "    </tr>\n",
       "  </thead>\n",
       "  <tbody>\n",
       "    <tr>\n",
       "      <th>fireboltt ninja call pro plus 183 smart watch with bluetooth calling ai voice assistance 100 sports modes ip67 rating 240280 pixel high resolution</th>\n",
       "      <td>5</td>\n",
       "    </tr>\n",
       "    <tr>\n",
       "      <th>fireboltt phoenix smart watch with bluetooth calling 13120 sports modes 240240 px high res with spo2 heart rate monitoring  ip67 rating</th>\n",
       "      <td>4</td>\n",
       "    </tr>\n",
       "    <tr>\n",
       "      <th>amazonbasics nylon braided usbc to lightning cable fast charging mfi certified smartphone iphone charger 6foot dark grey</th>\n",
       "      <td>3</td>\n",
       "    </tr>\n",
       "    <tr>\n",
       "      <th>samsung galaxy m13 5g aqua green 6gb 128gb storage  5000mah battery  upto 12gb ram with ram plus</th>\n",
       "      <td>3</td>\n",
       "    </tr>\n",
       "    <tr>\n",
       "      <th>portronics konnect cl 20w por1067 typec to 8 pin usb 12m cable with power delivery  3a quick charge support nylon braided for all typec and 8 pin devices green</th>\n",
       "      <td>3</td>\n",
       "    </tr>\n",
       "    <tr>\n",
       "      <th>portronics konnect l 12m fast charging 3a 8 pin usb cable with charge  sync function for iphone ipad grey</th>\n",
       "      <td>3</td>\n",
       "    </tr>\n",
       "    <tr>\n",
       "      <th>mi braided usb typec cable for charging adapter red</th>\n",
       "      <td>3</td>\n",
       "    </tr>\n",
       "    <tr>\n",
       "      <th>portronics konnect l 12m por1401 fast charging 3a 8 pin usb cable with charge  sync function white</th>\n",
       "      <td>3</td>\n",
       "    </tr>\n",
       "    <tr>\n",
       "      <th>portronics konnect l por1081 fast charging 3a typec cable 12meter with charge  sync function for all typec devices grey</th>\n",
       "      <td>3</td>\n",
       "    </tr>\n",
       "    <tr>\n",
       "      <th>amazonbasics new release nylon usba to lightning cable cord fast charging mfi certified charger for apple iphone ipad 6ft rose gold</th>\n",
       "      <td>3</td>\n",
       "    </tr>\n",
       "  </tbody>\n",
       "</table>\n",
       "</div>"
      ],
      "text/plain": [
       "                                                    rating\n",
       "product_name                                              \n",
       "fireboltt ninja call pro plus 183 smart watch w...       5\n",
       "fireboltt phoenix smart watch with bluetooth ca...       4\n",
       "amazonbasics nylon braided usbc to lightning ca...       3\n",
       "samsung galaxy m13 5g aqua green 6gb 128gb stor...       3\n",
       "portronics konnect cl 20w por1067 typec to 8 pi...       3\n",
       "portronics konnect l 12m fast charging 3a 8 pin...       3\n",
       "mi braided usb typec cable for charging adapter...       3\n",
       "portronics konnect l 12m por1401 fast charging ...       3\n",
       "portronics konnect l por1081 fast charging 3a t...       3\n",
       "amazonbasics new release nylon usba to lightnin...       3"
      ]
     },
     "execution_count": 4,
     "metadata": {},
     "output_type": "execute_result"
    }
   ],
   "source": [
    "# popularity based recommendation system function with product name - top 10 most popular items\n",
    "\n",
    "def popularity_recommendation(data):\n",
    "    popular_products = pd.DataFrame(data.groupby('product_name')['rating'].count())\n",
    "    most_popular = popular_products.sort_values('rating', ascending=False)\n",
    "    most_popular = most_popular.head(10)\n",
    "    return most_popular\n",
    "\n",
    "popularity_recommendation(df)"
   ]
  },
  {
   "cell_type": "code",
   "execution_count": null,
   "metadata": {},
   "outputs": [],
   "source": [
    "# Content based recommendation system function with product name - top 10 most similar items\n",
    "from sklearn.feature_extraction.text import TfidfVectorizer\n",
    "from sklearn.metrics.pairwise import linear_kernel\n",
    "\n",
    "def content_based_recommendation(data, product_name, about_product, rating):\n",
    "    \n",
    "    tfidf = TfidfVectorizer(stop_words='english')\n",
    "    data['product_name'] = data['product_name'].fillna('')\n",
    "    tfidf_matrix = tfidf.fit_transform(data['product_name'])\n",
    "    cosine_sim = linear_kernel(tfidf_matrix, tfidf_matrix)\n",
    "    indices = pd.Series(data.index, index=data['product_name']).drop_duplicates()\n",
    "    idx = indices[product_name]\n",
    "    sim_scores = list(enumerate(cosine_sim[idx]))\n",
    "    sim_scores = sorted(sim_scores, key=lambda x: x[1], reverse=True)\n",
    "    sim_scores = sim_scores[1:11]\n",
    "    product_indices = [i[0] for i in sim_scores]\n",
    "    return data['product_name'].iloc[product_indices]"
   ]
  },
  {
   "cell_type": "code",
   "execution_count": 6,
   "metadata": {},
   "outputs": [],
   "source": [
    "from sklearn.feature_extraction.text import TfidfVectorizer\n",
    "from sklearn.metrics.pairwise import linear_kernel\n",
    "from sklearn.metrics.pairwise import cosine_similarity\n",
    "\n",
    "tfidf = TfidfVectorizer(stop_words='english')\n",
    "tfidf_matrix = tfidf.fit_transform(df['product_name'])"
   ]
  },
  {
   "cell_type": "code",
   "execution_count": 7,
   "metadata": {},
   "outputs": [
    {
     "data": {
      "text/plain": [
       "<1462x4545 sparse matrix of type '<class 'numpy.float64'>'\n",
       "\twith 23636 stored elements in Compressed Sparse Row format>"
      ]
     },
     "execution_count": 7,
     "metadata": {},
     "output_type": "execute_result"
    }
   ],
   "source": [
    "tfidf_matrix"
   ]
  },
  {
   "cell_type": "code",
   "execution_count": null,
   "metadata": {},
   "outputs": [],
   "source": []
  }
 ],
 "metadata": {
  "kernelspec": {
   "display_name": "CSCN8010_classic_ml",
   "language": "python",
   "name": "cscn8010_classic_ml"
  },
  "language_info": {
   "codemirror_mode": {
    "name": "ipython",
    "version": 3
   },
   "file_extension": ".py",
   "mimetype": "text/x-python",
   "name": "python",
   "nbconvert_exporter": "python",
   "pygments_lexer": "ipython3",
   "version": "3.11.7"
  }
 },
 "nbformat": 4,
 "nbformat_minor": 2
}
